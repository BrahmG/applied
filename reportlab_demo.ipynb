{
  "nbformat": 4,
  "nbformat_minor": 0,
  "metadata": {
    "colab": {
      "name": "reportlab_demo.ipynb",
      "provenance": [],
      "authorship_tag": "ABX9TyNFgknYh9W42ZmKTin9sqlY"
    },
    "kernelspec": {
      "name": "python3",
      "display_name": "Python 3"
    }
  },
  "cells": [
    {
      "cell_type": "code",
      "metadata": {
        "id": "koX2eF-fglyL",
        "outputId": "11a68d69-ac49-483e-9e23-b007235b3ef9",
        "colab": {
          "base_uri": "https://localhost:8080/",
          "height": 119
        }
      },
      "source": [
        "!pip install reportlab"
      ],
      "execution_count": 1,
      "outputs": [
        {
          "output_type": "stream",
          "text": [
            "Collecting reportlab\n",
            "\u001b[?25l  Downloading https://files.pythonhosted.org/packages/7a/f8/c207f6017e8a841e1d229fd6b88b5de72884fe043bdb7e1c271b7a32d76b/reportlab-3.5.53-cp36-cp36m-manylinux2010_x86_64.whl (2.6MB)\n",
            "\u001b[K     |████████████████████████████████| 2.6MB 3.4MB/s \n",
            "\u001b[?25hRequirement already satisfied: pillow>=4.0.0 in /usr/local/lib/python3.6/dist-packages (from reportlab) (7.0.0)\n",
            "Installing collected packages: reportlab\n",
            "Successfully installed reportlab-3.5.53\n"
          ],
          "name": "stdout"
        }
      ]
    },
    {
      "cell_type": "code",
      "metadata": {
        "id": "W8rS37FogpnL"
      },
      "source": [
        "from reportlab.platypus import SimpleDocTemplate,Paragraph,Spacer,Table,Image\n",
        "from reportlab.lib.styles import getSampleStyleSheet"
      ],
      "execution_count": 2,
      "outputs": []
    },
    {
      "cell_type": "code",
      "metadata": {
        "id": "w_kLXBLSg-iG"
      },
      "source": [
        "styles=getSampleStyleSheet()\n",
        "report=SimpleDocTemplate('./report.pdf')\n",
        "report_title=Paragraph('Just trying out something new',styles['h1'])\n",
        "report.build([report_title])"
      ],
      "execution_count": 3,
      "outputs": []
    },
    {
      "cell_type": "code",
      "metadata": {
        "id": "EFXQSqDFhYP1"
      },
      "source": [
        "!ls"
      ],
      "execution_count": null,
      "outputs": []
    },
    {
      "cell_type": "code",
      "metadata": {
        "id": "hlwxbYDwhhJL",
        "outputId": "94f785a6-8ef9-4df4-8258-9775e08eb073",
        "colab": {
          "base_uri": "https://localhost:8080/",
          "height": 1000
        }
      },
      "source": [
        "open('report.pdf','rb').readlines()"
      ],
      "execution_count": 8,
      "outputs": [
        {
          "output_type": "execute_result",
          "data": {
            "text/plain": [
              "[b'%PDF-1.4\\n',\n",
              " b'%\\x93\\x8c\\x8b\\x9e ReportLab Generated PDF document http://www.reportlab.com\\n',\n",
              " b'1 0 obj\\n',\n",
              " b'<<\\n',\n",
              " b'/F1 2 0 R /F2 3 0 R\\n',\n",
              " b'>>\\n',\n",
              " b'endobj\\n',\n",
              " b'2 0 obj\\n',\n",
              " b'<<\\n',\n",
              " b'/BaseFont /Helvetica /Encoding /WinAnsiEncoding /Name /F1 /Subtype /Type1 /Type /Font\\n',\n",
              " b'>>\\n',\n",
              " b'endobj\\n',\n",
              " b'3 0 obj\\n',\n",
              " b'<<\\n',\n",
              " b'/BaseFont /Helvetica-Bold /Encoding /WinAnsiEncoding /Name /F2 /Subtype /Type1 /Type /Font\\n',\n",
              " b'>>\\n',\n",
              " b'endobj\\n',\n",
              " b'4 0 obj\\n',\n",
              " b'<<\\n',\n",
              " b'/Contents 8 0 R /MediaBox [ 0 0 595.2756 841.8898 ] /Parent 7 0 R /Resources <<\\n',\n",
              " b'/Font 1 0 R /ProcSet [ /PDF /Text /ImageB /ImageC /ImageI ]\\n',\n",
              " b'>> /Rotate 0 /Trans <<\\n',\n",
              " b'\\n',\n",
              " b'>> \\n',\n",
              " b'  /Type /Page\\n',\n",
              " b'>>\\n',\n",
              " b'endobj\\n',\n",
              " b'5 0 obj\\n',\n",
              " b'<<\\n',\n",
              " b'/PageMode /UseNone /Pages 7 0 R /Type /Catalog\\n',\n",
              " b'>>\\n',\n",
              " b'endobj\\n',\n",
              " b'6 0 obj\\n',\n",
              " b'<<\\n',\n",
              " b\"/Author (\\\\(anonymous\\\\)) /CreationDate (D:20201022085552+00'00') /Creator (\\\\(unspecified\\\\)) /Keywords () /ModDate (D:20201022085552+00'00') /Producer (ReportLab PDF Library - www.reportlab.com) \\n\",\n",
              " b'  /Subject (\\\\(unspecified\\\\)) /Title (\\\\(anonymous\\\\)) /Trapped /False\\n',\n",
              " b'>>\\n',\n",
              " b'endobj\\n',\n",
              " b'7 0 obj\\n',\n",
              " b'<<\\n',\n",
              " b'/Count 1 /Kids [ 4 0 R ] /Type /Pages\\n',\n",
              " b'>>\\n',\n",
              " b'endobj\\n',\n",
              " b'8 0 obj\\n',\n",
              " b'<<\\n',\n",
              " b'/Filter [ /ASCII85Decode /FlateDecode ] /Length 162\\n',\n",
              " b'>>\\n',\n",
              " b'stream\\n',\n",
              " b\"GappV_$\\\\%E$q0R]'m%kGC1g[_]F+?T?A/5BWE!A2Cpt,YhJ<cA#_^<H+Y!l/fganq3&Cb$oF?U25d*/JHTV3ZCI&tCMB'S@/#o_=H=nf/3Wl.V4=F@oI2;3&bFFZkcZA;)/d_+d]Ca2!d&hZY$X2V82[eCWAfW/W~>endstream\\n\",\n",
              " b'endobj\\n',\n",
              " b'xref\\n',\n",
              " b'0 9\\n',\n",
              " b'0000000000 65535 f \\n',\n",
              " b'0000000073 00000 n \\n',\n",
              " b'0000000114 00000 n \\n',\n",
              " b'0000000221 00000 n \\n',\n",
              " b'0000000333 00000 n \\n',\n",
              " b'0000000536 00000 n \\n',\n",
              " b'0000000604 00000 n \\n',\n",
              " b'0000000887 00000 n \\n',\n",
              " b'0000000946 00000 n \\n',\n",
              " b'trailer\\n',\n",
              " b'<<\\n',\n",
              " b'/ID \\n',\n",
              " b'[<f44cd940c3539614e45e2607c9081e30><f44cd940c3539614e45e2607c9081e30>]\\n',\n",
              " b'% ReportLab generated PDF document -- digest (http://www.reportlab.com)\\n',\n",
              " b'\\n',\n",
              " b'/Info 6 0 R\\n',\n",
              " b'/Root 5 0 R\\n',\n",
              " b'/Size 9\\n',\n",
              " b'>>\\n',\n",
              " b'startxref\\n',\n",
              " b'1198\\n',\n",
              " b'%%EOF\\n']"
            ]
          },
          "metadata": {
            "tags": []
          },
          "execution_count": 8
        }
      ]
    },
    {
      "cell_type": "code",
      "metadata": {
        "id": "oxSUGRKDhjLh"
      },
      "source": [
        "#adding a table to pdf\n",
        "fruits={\n",
        "    'berries':1,\n",
        "    'apples':10,\n",
        "    'figs':5,\n",
        "    'grapes':20,\n",
        "    'mangoes':5,\n",
        "    'bananas':12\n",
        "}"
      ],
      "execution_count": 9,
      "outputs": []
    },
    {
      "cell_type": "code",
      "metadata": {
        "id": "WbStkiBYiEMM",
        "outputId": "fb740683-cf29-45ff-e6de-98fac90b8af2",
        "colab": {
          "base_uri": "https://localhost:8080/",
          "height": 34
        }
      },
      "source": [
        "t=[]\n",
        "for k,v in fruits.items():\n",
        "  t.append([k,v])\n",
        "print(t)  "
      ],
      "execution_count": 10,
      "outputs": [
        {
          "output_type": "stream",
          "text": [
            "[['berries', 1], ['apples', 10], ['figs', 5], ['grapes', 20], ['mangoes', 5], ['bananas', 12]]\n"
          ],
          "name": "stdout"
        }
      ]
    },
    {
      "cell_type": "code",
      "metadata": {
        "id": "h7kFcOrMiPHm"
      },
      "source": [
        "report_table=Table(data=t)\n",
        "report.build([report_title,report_table])"
      ],
      "execution_count": 11,
      "outputs": []
    },
    {
      "cell_type": "code",
      "metadata": {
        "id": "GR_E-eKOiekv"
      },
      "source": [
        "#adding borders and alignments\n",
        "from reportlab.lib import colors\n",
        "table_style=[('GRID',(0,0),(-1,-1),1,colors.black)]\n",
        "report_table=Table(data=t,style=table_style,hAlign='LEFT')\n",
        "report.build([report_title,report_table])\n"
      ],
      "execution_count": 14,
      "outputs": []
    }
  ]
}